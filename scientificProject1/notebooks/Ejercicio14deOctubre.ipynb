{
 "cells": [
  {
   "cell_type": "code",
   "execution_count": 3,
   "metadata": {
    "collapsed": true
   },
   "outputs": [
    {
     "name": "stdout",
     "output_type": "stream",
     "text": [
      "\n",
      "\n",
      "\n",
      "\n",
      "\n",
      "\n",
      "\n",
      "\n",
      "\n",
      "\n",
      "\n",
      "\n",
      "\n",
      "\n",
      "\n",
      "\n",
      "\n",
      "\n",
      "\n",
      "\n"
     ]
    }
   ],
   "source": [
    "import requests\n",
    "\n",
    "archivo = open(\"comida.csv\", \"w\")\n",
    "nombres_columnas = \"comida , ingredientes, medidas \\n\"\n",
    "archivo.write(nombres_columnas)\n",
    "\n",
    "for i in range(20):\n",
    "    response=requests.get(\"https://random-data-api.com/api/food/random_food\")\n",
    "    responseJson=response.json()\n",
    "    comida=responseJson[\"dish\"]\n",
    "    ingrediente=responseJson[\"ingredient\"]\n",
    "    medidas=responseJson[\"measurement\"]\n",
    "    print()\n",
    "    fila=comida+\",\"+ingrediente+\",\"+medidas+\"\\n\"\n",
    "\n",
    "    archivo = open(\"comida.csv\",\"a\")\n",
    "    archivo.write(fila)\n",
    "    archivo.close()\n",
    "\n"
   ]
  }
 ],
 "metadata": {
  "kernelspec": {
   "display_name": "Python 3",
   "language": "python",
   "name": "python3"
  },
  "language_info": {
   "codemirror_mode": {
    "name": "ipython",
    "version": 2
   },
   "file_extension": ".py",
   "mimetype": "text/x-python",
   "name": "python",
   "nbconvert_exporter": "python",
   "pygments_lexer": "ipython2",
   "version": "2.7.6"
  }
 },
 "nbformat": 4,
 "nbformat_minor": 0
}