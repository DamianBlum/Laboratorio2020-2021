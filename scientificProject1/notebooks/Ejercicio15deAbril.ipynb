{
 "cells": [
  {
   "cell_type": "code",
   "execution_count": 4,
   "metadata": {},
   "outputs": [
    {
     "name": "stderr",
     "output_type": "stream",
     "text": [
      "E:\\Programas\\Anaconda\\envs\\scientificProject1\\lib\\site-packages\\IPython\\core\\interactiveshell.py:3165: DtypeWarning: Columns (5) have mixed types.Specify dtype option on import or set low_memory=False.\n",
      "  has_raised = await self.run_ast_nodes(code_ast.body, cell_name,\n",
      "E:\\Programas\\Anaconda\\envs\\scientificProject1\\lib\\site-packages\\IPython\\core\\interactiveshell.py:3165: DtypeWarning: Columns (6) have mixed types.Specify dtype option on import or set low_memory=False.\n",
      "  has_raised = await self.run_ast_nodes(code_ast.body, cell_name,\n"
     ]
    },
    {
     "data": {
      "text/plain": "0        HC-2020-0007157\n1        HC-2020-0007157\n2        HC-2020-0007157\n3        HC-2020-0007157\n4        HC-2020-0007157\n              ...       \n66714    RH-2021-0005846\n66715    RH-2021-0006011\n66716    RH-2021-0006016\n66717    RH-2021-0006309\n66718    RH-2021-0006423\nName: id_mapa, Length: 66719, dtype: object"
     },
     "execution_count": 4,
     "metadata": {},
     "output_type": "execute_result"
    }
   ],
   "source": [
    "import pandas as pd\n",
    "df = pd.read_csv(\"delitos_2020.csv\")  # Punto 1\n",
    "#df = df.set_index('id_mapa')  # Punto 2, no puedo indexarlo asi que lo dejo comentado\n",
    "df.drop_duplicates()  # Punto 3\n",
    "df.dropna() # Punto 4 como siempre hay algun NaT lo tengo como comentar\n",
    "#df.to_csv(\"prueba.csv\")  # Punto 5\n",
    "#df.loc[0:3000] # Punto 6\n",
    "#df.loc[64718:66718]  # Punto 6\n",
    "\n",
    "df2=pd.read_csv(\"prueba.csv\")\n",
    "# print(df2) # Punto 7\n",
    "# df2.loc[[1,3,5,7]] #Punto 8\n",
    "# print(list(df2.columns)) #Punto 9\n",
    "# df2.loc[0:66719,'id_mapa'] Punto 10"
   ]
  },
  {
   "cell_type": "code",
   "execution_count": 4,
   "metadata": {},
   "outputs": [],
   "source": []
  }
 ],
 "metadata": {
  "kernelspec": {
   "display_name": "Python 3",
   "language": "python",
   "name": "python3"
  },
  "language_info": {
   "codemirror_mode": {
    "name": "ipython",
    "version": 3
   },
   "file_extension": ".py",
   "mimetype": "text/x-python",
   "name": "python",
   "nbconvert_exporter": "python",
   "pygments_lexer": "ipython3",
   "version": "3.9.4"
  }
 },
 "nbformat": 4,
 "nbformat_minor": 1
}