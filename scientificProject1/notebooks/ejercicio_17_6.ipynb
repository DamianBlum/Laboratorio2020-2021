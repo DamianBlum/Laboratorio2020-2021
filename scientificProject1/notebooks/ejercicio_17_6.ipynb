{
 "cells": [
  {
   "cell_type": "code",
   "execution_count": 5,
   "metadata": {
    "collapsed": true
   },
   "outputs": [
    {
     "name": "stdout",
     "output_type": "stream",
     "text": [
      "0                          NaN\n",
      "1               Guitarra;Piano\n",
      "2                     Guitarra\n",
      "3               Guitarra;Piano\n",
      "4                          NaN\n",
      "5                     Guitarra\n",
      "6                          NaN\n",
      "7               Guitarra;Piano\n",
      "8                 Piano;Flauta\n",
      "9          Guitarra;Piano;Bajo\n",
      "10    Guitarra;Piano;Clarinete\n",
      "11                       Piano\n",
      "12          Piano;Bajo;Ukelele\n",
      "13      Guitarra;Piano;Bateria\n",
      "Name: SI es asi, seleccione cuales de estos instrumentos se tocan, dtype: object\n"
     ]
    }
   ],
   "source": [
    "import pandas as pd\n",
    "import matplotlib.pyplot as plt1\n",
    "import matplotlib.pyplot as plt2\n",
    "\n",
    "df1=pd.read_csv('Respuestas_Musica.csv')\n",
    "# print(df1)\n",
    "hola= df1['SI es asi, seleccione cuales de estos instrumentos se tocan']\n",
    "print(hola)\n",
    "# df1=df1.dropna(subset=['barrio'])\n",
    "# x_values_comuna = df1['comuna'].unique()\n",
    "# y_values_comuna = df1['comuna'].value_counts().tolist()\n",
    "# y_values_comuna.reverse()\n",
    "# x_values_mes = df1['mes'].unique()\n",
    "# y_values_mes = df1['mes'].value_counts().tolist()\n",
    "# y_values_mes.reverse()"
   ]
  }
 ],
 "metadata": {
  "kernelspec": {
   "display_name": "Python 3",
   "language": "python",
   "name": "python3"
  },
  "language_info": {
   "codemirror_mode": {
    "name": "ipython",
    "version": 2
   },
   "file_extension": ".py",
   "mimetype": "text/x-python",
   "name": "python",
   "nbconvert_exporter": "python",
   "pygments_lexer": "ipython2",
   "version": "2.7.6"
  }
 },
 "nbformat": 4,
 "nbformat_minor": 0
}