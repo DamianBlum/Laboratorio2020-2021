{
 "cells": [
  {
   "cell_type": "markdown",
   "source": [
    "# *Introduccion*\n",
    "\n",
    "### Hola, a continuacion se realizara un trabajo de analisis de datos. Este para observar como ha cambiado ultimamente los musicos familiares y la diferencia entre el pasado.\n",
    "### Para ello obtendremos informacion a traves de un formulario de google donde 26 personas respondieron, estas fueron enviadas a traves de medios digitales a compañeros del colegio/amigos mios\n",
    "### A continuacion se encuentra el link de la pagina donde se obtuvo la informacion: [formulario](https://forms.gle/Gba5UXk5RfGFYD7y6)\n"
   ],
   "metadata": {
    "collapsed": false,
    "pycharm": {
     "name": "#%% md\n"
    }
   }
  },
  {
   "cell_type": "code",
   "execution_count": 28,
   "metadata": {
    "collapsed": true
   },
   "outputs": [
    {
     "name": "stdout",
     "output_type": "stream",
     "text": [
      "['Piano', 'Guitarra', 'Bajo', 'Ukelele', 'Bateria', 'Clarinete', 'Flauta']\n",
      "[13, 10, 4, 2, 2, 1, 1]\n",
      "['1', '0', '2', '3', 'Mas']\n",
      "[9, 8, 6, 3, 1]\n"
     ]
    }
   ],
   "source": [
    "import pandas as pd\n",
    "import matplotlib.pyplot as plt1\n",
    "import matplotlib.pyplot as plt2\n",
    "#\n",
    "df1=pd.read_csv('Respuestas_Musica.csv')\n",
    "df2=df1.dropna(subset=['SI es asi, seleccione cuales de estos instrumentos se tocan'])\n",
    "instrumentos= df2['SI es asi, seleccione cuales de estos instrumentos se tocan']\n",
    "array_instrumentos=instrumentos.array\n",
    "instrumentosBien= []\n",
    "for instrumento in array_instrumentos:\n",
    "    if \";\" in instrumento:\n",
    "        for individual in instrumento.split(\";\"):\n",
    "            instrumentosBien.append(individual)\n",
    "    else :\n",
    "        instrumentosBien.append(instrumento)\n",
    "InstrumentosSeries=pd.Series(instrumentosBien)\n",
    "\n",
    "\n",
    "x_values_cantidad = df1['¿Cuántas personas de tu familia cercana (incluyéndote) tocan algún instrumento musical?'].value_counts().index.tolist()\n",
    "y_values_cantidad = df1['¿Cuántas personas de tu familia cercana (incluyéndote) tocan algún instrumento musical?'].value_counts().tolist()\n",
    "x_values_instrumentos = InstrumentosSeries.value_counts().index.tolist()\n",
    "y_values_instrumentos = InstrumentosSeries.value_counts().tolist()\n",
    "print(x_values_instrumentos)\n",
    "print(y_values_instrumentos)\n",
    "print(x_values_cantidad)\n",
    "print(y_values_cantidad)"
   ]
  },
  {
   "cell_type": "markdown",
   "source": [
    "# *Desarrollo*\n",
    "\n",
    "### A continuacion se graficaran dos cosas: la cantidad de musicos por familia y cuals son sus instrumentos principales."
   ],
   "metadata": {
    "collapsed": false
   }
  },
  {
   "cell_type": "code",
   "source": [
    "plt1.bar(x_values_cantidad,y_values_cantidad)\n",
    "plt1.title('Cantidad de musicos por familia ')\n",
    "plt1.xlabel('Cantidad')\n",
    "plt1.show()"
   ],
   "metadata": {
    "collapsed": false,
    "pycharm": {
     "name": "#%%\n"
    }
   },
   "execution_count": 29,
   "outputs": [
    {
     "data": {
      "text/plain": "<Figure size 432x288 with 1 Axes>",
      "image/png": "[encoded data removed]"
     },
     "metadata": {
      "needs_background": "light"
     },
     "output_type": "display_data"
    }
   ]
  },
  {
   "cell_type": "markdown",
   "source": [],
   "metadata": {
    "collapsed": false
   }
  },
  {
   "cell_type": "code",
   "source": [
    "plt2.bar(x_values_instrumentos,y_values_instrumentos)\n",
    "plt2.title('Instrumentos mas populares por familia')\n",
    "plt2.xlabel('Instrumentos')\n",
    "plt2.show()"
   ],
   "metadata": {
    "collapsed": false,
    "pycharm": {
     "name": "#%%\n"
    }
   },
   "execution_count": 30,
   "outputs": [
    {
     "data": {
      "text/plain": "<Figure size 432x288 with 1 Axes>",
      "image/png": "[encoded data removed]"
     },
     "metadata": {
      "needs_background": "light"
     },
     "output_type": "display_data"
    }
   ]
  },
  {
   "cell_type": "markdown",
   "source": [],
   "metadata": {
    "collapsed": false
   }
  }
 ],
 "metadata": {
  "kernelspec": {
   "display_name": "Python 3",
   "language": "python",
   "name": "python3"
  },
  "language_info": {
   "codemirror_mode": {
    "name": "ipython",
    "version": 2
   },
   "file_extension": ".py",
   "mimetype": "text/x-python",
   "name": "python",
   "nbconvert_exporter": "python",
   "pygments_lexer": "ipython2",
   "version": "2.7.6"
  }
 },
 "nbformat": 4,
 "nbformat_minor": 0
}