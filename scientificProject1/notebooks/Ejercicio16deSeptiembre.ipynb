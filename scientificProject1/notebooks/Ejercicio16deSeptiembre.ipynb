{
 "cells": [
  {
   "cell_type": "code",
   "execution_count": 12,
   "metadata": {
    "collapsed": true
   },
   "outputs": [],
   "source": [
    "import requests\n",
    "import pandas as pd\n",
    "import numpy as np\n",
    "from bs4 import BeautifulSoup\n",
    "\n",
    "pagina=requests.get(\"https://www.songsterr.com\")\n",
    "objeto_sopa = BeautifulSoup(pagina.content, 'html.parser')\n",
    "#print(objeto_sopa.prettify())\n",
    "\n",
    "Canciones=objeto_sopa.find_all(class_=\"Beifj Bei2fq\")\n",
    "\n",
    "Id=[]\n",
    "Dificultad=[]\n",
    "Titulo=[]\n",
    "Artistia=[]\n",
    "\n",
    "\n",
    "for x in range(len(Canciones)):\n",
    "    listaDePartesDeLaCancion = list(Canciones[x].children)\n",
    "\n",
    "    dificultad=listaDePartesDeLaCancion[1][\"style\"][12:14]\n",
    "    dificultad=dificultad.replace(\"p\",\"\")\n",
    "    Dificultad.append(int(dificultad)/5)\n",
    "    #Consigo la dificil,\n",
    "    # que despues si lo divido por 5\n",
    "    # me da la cantidad de barritas que me cuesta hacer la cancion\n",
    "\n",
    "    tituloYArtista=list(listaDePartesDeLaCancion[0].children)\n",
    "\n",
    "    Titulo.append(tituloYArtista[0].get_text())\n",
    "    #Titulo\n",
    "    Artistia.append(tituloYArtista[1].get_text())\n",
    "    #Artista\n",
    "\n",
    "    Id.append(x)\n",
    "\n",
    "dataframe=pd.DataFrame(list(zip(Id,Dificultad,Titulo,Artistia)),columns=[\"Id\",\"Dificultad\",\"Titulo\",\"Artistia\"])\n",
    "dataframe.set_index(\"Id\",inplace=True)\n",
    "dataframe.to_csv(\"../data/canciones.csv\")"
   ]
  }
 ],
 "metadata": {
  "kernelspec": {
   "display_name": "Python 3",
   "language": "python",
   "name": "python3"
  },
  "language_info": {
   "codemirror_mode": {
    "name": "ipython",
    "version": 2
   },
   "file_extension": ".py",
   "mimetype": "text/x-python",
   "name": "python",
   "nbconvert_exporter": "python",
   "pygments_lexer": "ipython2",
   "version": "2.7.6"
  }
 },
 "nbformat": 4,
 "nbformat_minor": 0
}