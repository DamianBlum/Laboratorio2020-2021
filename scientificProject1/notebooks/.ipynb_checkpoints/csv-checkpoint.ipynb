{
 "cells": [
  {
   "cell_type": "code",
   "execution_count": 9,
   "metadata": {
    "collapsed": true
   },
   "outputs": [
    {
     "name": "stderr",
     "output_type": "stream",
     "text": [
      "E:\\Programas\\Anaconda\\envs\\scientificProject1\\lib\\site-packages\\IPython\\core\\interactiveshell.py:3165: DtypeWarning: Columns (5) have mixed types.Specify dtype option on import or set low_memory=False.\n",
      "  has_raised = await self.run_ast_nodes(code_ast.body, cell_name,\n"
     ]
    }
   ],
   "source": [
    "import pandas as pd\n",
    "df = pd.read_csv(\"delitos_2020.csv\")  # Punto 1\n",
    "# df = df.set_index('id_mapa')  # Punto 2, no puedo indexarlo asi que lo dejo comentado\n",
    "#df.drop_duplicates()  # Punto 3\n",
    "# df.dropna() # Punto 5 como siempre hay algun NaT lo tengo como comentar\n",
    "#df.loc[1,3,5]  # Punto 6\n",
    "#df2=df.loc[64718:66718]  # Punto 6\n",
    "#df.append(df2)# Punto 6\n",
    "\n",
    "# df3.to_csv(\"prueba.csv\")  # Punto 7\n",
    "\n",
    "# print(list(df.columns))   muestra nombres de la columnas en una linea, id anio mes dia fecha franja etc\n",
    "# print(list(df.index)) muestra cuantas horizontales hay\n",
    "# df.loc[0:1000] imprime solo las primeras 1000 filas, hay un inicio y un fin\n",
    "# df['sexo'].value_counts()\n",
    "# df.dropna(inplace=True)\n",
    "# dfConIndiceDni = df.set_index('mes') # setea un indice se basa en eso para recorre?, ignora el mes?\n",
    "# dfSinFilasConNan = df.dropna() # eliminar filas\n",
    "\n"
   ]
  }
 ],
 "metadata": {
  "kernelspec": {
   "display_name": "Python 3",
   "language": "python",
   "name": "python3"
  },
  "language_info": {
   "codemirror_mode": {
    "name": "ipython",
    "version": 3
   },
   "file_extension": ".py",
   "mimetype": "text/x-python",
   "name": "python",
   "nbconvert_exporter": "python",
   "pygments_lexer": "ipython3",
   "version": "3.9.4"
  }
 },
 "nbformat": 4,
 "nbformat_minor": 1
}
