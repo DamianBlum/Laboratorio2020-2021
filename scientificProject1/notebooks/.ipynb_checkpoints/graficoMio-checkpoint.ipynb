{
 "cells": [
  {
   "cell_type": "code",
   "execution_count": null,
   "metadata": {},
   "outputs": [],
   "source": [
    "import pandas as pd\n",
    "import matplotlib.pyplot as plt1\n",
    "import matplotlib.pyplot as plt2\n",
    "\n",
    "df1=pd.read_csv('delitos_2020.csv')\n",
    "x_values_comuna = df1['comuna'].unique()\n",
    "y_values_comuna = df1['comuna'].value_counts().tolist()\n",
    "y_values_comuna.reverse()\n",
    "#x_values_tipo = df1['tipo'].unique()\n",
    "#y_values_tipo = df1['tipo'].value_counts().tolist()\n",
    "#y_values_tipo.reverse()\n",
    "\n",
    "# gráfico 1\n",
    "plt1.bar(x_values_comuna,y_values_comuna)\n",
    "plt1.title('Ataques a ciertas comunas')\n",
    "plt1.xlabel('Comunas')\n",
    "plt1.ylabel('cantidad de Ataques')\n",
    "plt1.show()\n",
    "\n",
    "# gráfico 2\n",
    "#plt2.plot(x_values_tipo,y_values_tipo)\n",
    "#plt2.title('Tipos de delito')\n",
    "#plt2.xlabel('delitos')\n",
    "#plt2.ylabel('cantidad')\n",
    "#plt2.show()"
   ]
  },
  {
   "cell_type": "code",
   "execution_count": null,
   "metadata": {},
   "outputs": [],
   "source": []
  }
 ],
 "metadata": {
  "kernelspec": {
   "display_name": "Python 3",
   "language": "python",
   "name": "python3"
  },
  "language_info": {
   "codemirror_mode": {
    "name": "ipython",
    "version": 3
   },
   "file_extension": ".py",
   "mimetype": "text/x-python",
   "name": "python",
   "nbconvert_exporter": "python",
   "pygments_lexer": "ipython3",
   "version": "3.8.5"
  }
 },
 "nbformat": 4,
 "nbformat_minor": 1
}
